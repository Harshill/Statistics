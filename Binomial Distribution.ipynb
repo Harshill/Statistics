{
 "cells": [
  {
   "cell_type": "markdown",
   "metadata": {},
   "source": [
    "## Binomial Distribution\n",
    "\n",
    "#### This distribution models the probability of a random variable that represents the number of times an event occurs\n",
    "\n",
    "#### A classic example is flipping a coin n times, the binomial distribution models the probablity of obtaining 1, 2, 3 ... n heads "
   ]
  },
  {
   "cell_type": "code",
   "execution_count": 1,
   "metadata": {},
   "outputs": [],
   "source": [
    "import numpy as np\n",
    "import seaborn as sns\n",
    "import scipy.stats as stats\n",
    "import matplotlib.pyplot as graph\n",
    "\n",
    "graph.style.use('fivethirtyeight')"
   ]
  },
  {
   "cell_type": "markdown",
   "metadata": {},
   "source": [
    "#### The binomial distribution is defined by \n",
    "\n",
    "$ P(X=k) = \\frac{n!}{k!(n-k)!} p^k (1 - p)^{n - k}$\n",
    "\n",
    "P(X=k): The probability of observing k positive events <br> <br>\n",
    "     k: The number of positive events <br>\n",
    "     n: The total number of trials <br>\n",
    "     p: The probability of a positive event <br>\n",
    "\n",
    "#### Why this works\n",
    "The first part of the equation is the combination of k events in n trials <br>\n",
    "The second part of the equation is the probability of the positive event occuring k times <br>\n",
    "The final part is the probability of the negative event occuring the remaining n - k times"
   ]
  },
  {
   "cell_type": "code",
   "execution_count": 2,
   "metadata": {},
   "outputs": [
    {
     "name": "stdout",
     "output_type": "stream",
     "text": [
      "Probability of observing 25 heads after 50 coin toses = 0.11227517265921705\n"
     ]
    }
   ],
   "source": [
    "def binomial_pmf(n, k, p=0.5):\n",
    "    factorial = np.math.factorial\n",
    "    \n",
    "    n_arrangements = factorial(n) / (factorial(k) * factorial(n - k))\n",
    "    probability = (p**k) * (1 - p)**(n - k)\n",
    "    \n",
    "    return n_arrangements * probability\n",
    "\n",
    "print(f'Probability of observing 25 heads after 50 coin toses = {binomial_pmf(50, 25, 0.5)}')"
   ]
  },
  {
   "cell_type": "markdown",
   "metadata": {},
   "source": [
    "## The binomial distribution in numpy and scipy"
   ]
  },
  {
   "cell_type": "code",
   "execution_count": 3,
   "metadata": {},
   "outputs": [
    {
     "data": {
      "image/png": "[encoded data removed]",
      "text/plain": [
       "<Figure size 432x288 with 1 Axes>"
      ]
     },
     "metadata": {},
     "output_type": "display_data"
    }
   ],
   "source": [
    "# Sample from a binomial distribution\n",
    "\n",
    "data = np.random.binomial(n=100, p=0.5, size=10000)\n",
    "data = stats.binom.rvs(n=100, p=0.5, size=10000)\n",
    "\n",
    "graph.hist(data, edgecolor='black')\n",
    "graph.show()"
   ]
  },
  {
   "cell_type": "code",
   "execution_count": 4,
   "metadata": {},
   "outputs": [
    {
     "name": "stdout",
     "output_type": "stream",
     "text": [
      "Probability of observing 25 heads after 50 coin toses = 0.11227517265921609\n",
      "Probability of observing 25 heads or less after 50 coin toses = 0.5561375863296087\n"
     ]
    }
   ],
   "source": [
    "# Probability Mass Function returns the probability of observing k events in n trials\n",
    "print(f'Probability of observing 25 heads after 50 coin toses = {stats.binom.pmf(k=25, n=50, p=0.5)}')\n",
    "\n",
    "# Cumulative Density Function returns the probability of observing X <= k events in n trials\n",
    "print(f'Probability of observing 25 heads or less after 50 coin toses = {stats.binom.cdf(k=25, n=50, p=0.5)}')"
   ]
  },
  {
   "cell_type": "markdown",
   "metadata": {},
   "source": [
    "# Negative Binomial distribution\n",
    "\n",
    "This models the number of successes you would observe before you observe an r number of failures.\n",
    "\n",
    "For example, call rolling a 1 on a die a failure and non-1 numbers as successes, what is the distribution of observing successes before you observe 3 1's?"
   ]
  },
  {
   "cell_type": "code",
   "execution_count": null,
   "metadata": {},
   "outputs": [],
   "source": []
  }
 ],
 "metadata": {
  "kernelspec": {
   "display_name": "Python 3",
   "language": "python",
   "name": "python3"
  },
  "language_info": {
   "codemirror_mode": {
    "name": "ipython",
    "version": 3
   },
   "file_extension": ".py",
   "mimetype": "text/x-python",
   "name": "python",
   "nbconvert_exporter": "python",
   "pygments_lexer": "ipython3",
   "version": "3.6.3"
  }
 },
 "nbformat": 4,
 "nbformat_minor": 2
}
